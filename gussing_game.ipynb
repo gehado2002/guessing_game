{
  "nbformat": 4,
  "nbformat_minor": 0,
  "metadata": {
    "colab": {
      "provenance": [],
      "collapsed_sections": [
        "1NMnTuFU4XF3",
        "GsE-z7Son-xm",
        "ZaIwkooboJ5p",
        "OjfyXPCeoQM4"
      ]
    },
    "kernelspec": {
      "name": "python3",
      "display_name": "Python 3"
    },
    "language_info": {
      "name": "python"
    }
  },
  "cells": [
    {
      "cell_type": "markdown",
      "source": [
        "\n",
        "<a href=\"https://www.zero-grad.com/\">\n",
        "         <img alt=\"Zero Grad\" src=\"https://lh3.googleusercontent.com/oEMY-qk_B2HW_Fponz1a3u1fLfo3NpO0VFjQKnVW8fH0v93NAWala5Kgp0nN2ubiyZdEMpwhv3Ynv7bXsB0RZ28YfEd_ZlRum75OHEu0-z7XwHfcD3sin7_SORLzg1gz52MsxD3b1WbxQWX1RdR4HP3jpbJTOuCiddl92UBcQH_x-Llx7_XuZuwb9ekN9vYnKsw6U1yL2df4IVrJEDySttzab9qlHvMO7sSekgS64jPVAmATjqXqlvrwM026dhrad-7nX-hfr2uKlUGPuo9xKzVo4EhbUP1-pKBQNPNHO6P0KcReg3NxbtKmWXRyg9LPX0xO-wwXWt9GhCcPXFV_BoY5eQXabCjR3mlr9SO01VgWplas-XF4337_JOm-bVkiaQjQca_N4Gg0hy26TvIGRnHEMIPSgudYPqhMnatoN4xAC715rP82r1svC0_qadXMZHu6D40YqWnY9ZE-iujr2p1_CetxmG-uY94UATy7o-SnxuPchG4QfZkiUgRMr8xNg86bQMuBxbCS_lOyVMwfqwbt2IunlDcZ8yyN_3SJFzFHuFOOjQolgGQrytI0mP1oTwba7je0RtBtCuTck1UCMMsZvMnJhCtWgMmuLoYTkSCzxMXbz0T3L2AClDouA_3dwM7z1gdm8Gq4v06T1KWFUs1adGNH5fuj-pUHEfW4drzzXgolPH5SehqhaNsqdMttCPUzNPIIEjwfULyQi7nlP-w-qydK82mdhdmjQhrprfoGtsPckJkI1Tur60uZI7nLkES5cE3tQrGualSNArRkkU8KN4tStZ0CkmqZNkAlMbfAJSYBD7tDxhGSg922AdLevSLJMTUyg6KuHoY30r7zH1Z8fE0R8aFZL2LJl54OU_tkXEdlFlSnZTOdB-PVTj-yagpt99SetLnQIX5SS_Vxc0BNPKjUZG0oEHYbIxkbZN1O7Rg78xe-thytngS0byfuaeP2X4NYjg29FIffnn72bAUs9Ii0N2mOpABLg1uQMN4MyAa1Mbd_=w1300-h200-no?authuser=1\" >\n",
        "      </a>"
      ],
      "metadata": {
        "id": "hMV-7TpxbEDG"
      }
    },
    {
      "cell_type": "markdown",
      "source": [
        "## Guessing Game Project"
      ],
      "metadata": {
        "id": "1NMnTuFU4XF3"
      }
    },
    {
      "cell_type": "markdown",
      "source": [
        "## Project Description"
      ],
      "metadata": {
        "id": "PhpgbWHJhJOW"
      }
    },
    {
      "cell_type": "markdown",
      "source": [
        "* **`First: You ask the user to set the game level:`**\n",
        "  * *(1) Easy*:\n",
        "    * Limits : [1 - 10]  \n",
        "    * No. of trials : 3\n",
        "  * *(2) Intermediate*:\n",
        "    * Limits : [1 - 100]\n",
        "    * No. of trials : 7\n",
        "  * *(3) Hard* :  \n",
        "    * Limits : [1 - 1000]\n",
        "    * No. of trials : 15\n",
        "\n",
        "* **`Second: start the game according to the game level:`**\n",
        "  * set the `guess` to a number within the limits using `random` module\n",
        "  * set the number of trials: `n_trials`\n",
        "\n",
        "* **`Finally: start the game:`**\n",
        "  * Ask the user to guess the number:\n",
        "    * If he guessed it successfully : `print('Congratulations, you achieved it in {user_trials} trial') `\n",
        "    * if he failed:\n",
        "      * user_trials < n_trials: give him another trial within\n",
        "      * user_trials = n_trials: `print('You Lose!')`"
      ],
      "metadata": {
        "id": "9XJyp9xehPBl"
      }
    },
    {
      "cell_type": "markdown",
      "source": [
        "## Show the game levels"
      ],
      "metadata": {
        "id": "GsE-z7Son-xm"
      }
    },
    {
      "cell_type": "code",
      "source": [
        "def show_levels():\n",
        "  print(\"\"\"(1) Easy:\n",
        "\\tLimits : [1 - 10]\n",
        "\\tNo. of trials : 3\\n\n",
        "(2) Intermediate:\n",
        "\\tLimits : [1 - 100]\n",
        "\\tNo. of trials : 7\\n\n",
        "(3) Hard :\n",
        "\\tLimits : [1 - 1000]\n",
        "\\tNo. of trials : 15\"\"\")"
      ],
      "metadata": {
        "id": "YueCJNtPnndY"
      },
      "execution_count": null,
      "outputs": []
    },
    {
      "cell_type": "markdown",
      "source": [
        "## Ask the user for the game level"
      ],
      "metadata": {
        "id": "ZaIwkooboJ5p"
      }
    },
    {
      "cell_type": "code",
      "source": [
        "def game_level_choice():\n",
        "  game_level=input(\"\"\"Enter the game level :\n",
        " (1) Easy \t (2) Intermediate \t (3) Hard\"\"\")\n",
        "  return game_level"
      ],
      "metadata": {
        "id": "ciabphtW4nB1"
      },
      "execution_count": null,
      "outputs": []
    },
    {
      "cell_type": "markdown",
      "source": [
        "## Set the game settings according to the game level:\n"
      ],
      "metadata": {
        "id": "OjfyXPCeoQM4"
      }
    },
    {
      "cell_type": "code",
      "source": [
        "def set_game_settings(game_level):\n",
        "\n",
        "  if game_level==\"1\":\n",
        "     limits=range(1,11)\n",
        "     n_trials=3\n",
        "  elif game_level==\"2\":\n",
        "     limits=range(1,101)\n",
        "     n_trials=7\n",
        "  elif game_level==\"3\":\n",
        "     limits=range(1,1001)\n",
        "     n_trials=15\n",
        "  return limits, n_trials"
      ],
      "metadata": {
        "id": "NTxJ1qsJmhoG"
      },
      "execution_count": null,
      "outputs": []
    },
    {
      "cell_type": "markdown",
      "source": [
        "## Start Playing"
      ],
      "metadata": {
        "id": "97c-Ofv1o522"
      }
    },
    {
      "cell_type": "code",
      "source": [
        "import random\n",
        "def start_play(limits, n_trials):\n",
        "  num = random.choice(limits)\n",
        "  user_trials = 0\n",
        "\n",
        "  while True:\n",
        "    guess_number=int(input(\"I have a hidden number, guess it : \"))\n",
        "    user_trials+=1\n",
        "    if guess_number<num and user_trials<n_trials:\n",
        "      print(\"No, Increase!\")\n",
        "    elif guess_number>num and user_trials<n_trials:\n",
        "      print(\"No, decrease!\")\n",
        "    elif guess_number==num and user_trials<n_trials:\n",
        "      print(f\"You got it successfully in {user_trials} trials\")\n",
        "      break\n",
        "    else :\n",
        "      print('You Lose!')\n",
        "      break\n",
        "\n"
      ],
      "metadata": {
        "id": "wz6TkIcTo1Jl"
      },
      "execution_count": null,
      "outputs": []
    },
    {
      "cell_type": "markdown",
      "source": [
        "## Let's Play"
      ],
      "metadata": {
        "id": "uI9u-XGV2S7P"
      }
    },
    {
      "cell_type": "code",
      "source": [
        "show_levels()\n",
        "game_level = game_level_choice()\n",
        "limits, n_trials = set_game_settings(game_level)\n",
        "start_play(limits, n_trials)"
      ],
      "metadata": {
        "id": "4nIAPOhSpksM",
        "colab": {
          "base_uri": "https://localhost:8080/"
        },
        "outputId": "d994c8e9-6a64-4f69-e618-2f3a713b0976"
      },
      "execution_count": null,
      "outputs": [
        {
          "output_type": "stream",
          "name": "stdout",
          "text": [
            "(1) Easy:\n",
            "\tLimits : [1 - 10]\n",
            "\tNo. of trials : 3\n",
            "\n",
            "(2) Intermediate:\n",
            "\tLimits : [1 - 100]\n",
            "\tNo. of trials : 7\n",
            "\n",
            "(3) Hard :\n",
            "\tLimits : [1 - 1000]\n",
            "\tNo. of trials : 15\n",
            "Enter the game level :\n",
            " (1) Easy \t (2) Intermediate \t (3) Hard1\n",
            "I have a hidden number, guess it : 5\n",
            "No, Increase!\n",
            "I have a hidden number, guess it : 7\n",
            "No, Increase!\n",
            "I have a hidden number, guess it : 9\n",
            "You Lose!\n"
          ]
        }
      ]
    }
  ]
}